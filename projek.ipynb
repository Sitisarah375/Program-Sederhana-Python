{
 "cells": [
  {
   "cell_type": "code",
   "execution_count": 2,
   "metadata": {},
   "outputs": [
    {
     "name": "stdout",
     "output_type": "stream",
     "text": [
      "total belanja:  95\n"
     ]
    }
   ],
   "source": [
    "belanja = int(input(\"masukan harga belanja\"))\n",
    "diskon = int(input(\"masukan diskon tdk pakai %\"))\n",
    "total = int(belanja-(belanja*diskon/100))\n",
    "\n",
    "print(\"total belanja: \", total )"
   ]
  },
  {
   "cell_type": "code",
   "execution_count": 3,
   "metadata": {},
   "outputs": [
    {
     "name": "stdout",
     "output_type": "stream",
     "text": [
      "total belanja:  95.0\n"
     ]
    }
   ],
   "source": [
    "belanja = float(input(\"masukan harga belanja\"))\n",
    "diskon = float(input(\"masukan diskon tdk pakai %\"))\n",
    "total = float(belanja-(belanja*diskon/100))\n",
    "\n",
    "print(\"total belanja: \", total )"
   ]
  },
  {
   "cell_type": "code",
   "execution_count": 4,
   "metadata": {},
   "outputs": [
    {
     "name": "stdout",
     "output_type": "stream",
     "text": [
      "jumlah: 29\n"
     ]
    }
   ],
   "source": [
    "nama = (input(\"masukan nama\"))\n",
    "jk = (input(\"masukan jk\"))\n",
    "usia = int(input(\"masukan usia\"))\n",
    "tinggi = int(input(\"masukan tinggi\"))\n",
    "berat = int(input(\"masukan berat\"))\n",
    "imt = round(berat/(tinggi/100))\n",
    "\n",
    "print(\"jumlah:\", imt)"
   ]
  }
 ],
 "metadata": {
  "kernelspec": {
   "display_name": "Python 3",
   "language": "python",
   "name": "python3"
  },
  "language_info": {
   "codemirror_mode": {
    "name": "ipython",
    "version": 3
   },
   "file_extension": ".py",
   "mimetype": "text/x-python",
   "name": "python",
   "nbconvert_exporter": "python",
   "pygments_lexer": "ipython3",
   "version": "3.11.2"
  },
  "orig_nbformat": 4
 },
 "nbformat": 4,
 "nbformat_minor": 2
}
